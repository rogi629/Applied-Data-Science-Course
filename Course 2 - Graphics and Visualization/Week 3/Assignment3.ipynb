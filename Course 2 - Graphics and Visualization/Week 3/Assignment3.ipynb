{
 "cells": [
  {
   "cell_type": "markdown",
   "metadata": {},
   "source": [
    "# Assignment 3 - Building a Custom Visualization\n",
    "\n",
    "---\n",
    "\n",
    "In this assignment you must choose one of the options presented below and submit a visual as well as your source code for peer grading. The details of how you solve the assignment are up to you, although your assignment must use matplotlib so that your peers can evaluate your work. The options differ in challenge level, but there are no grades associated with the challenge level you chose. However, your peers will be asked to ensure you at least met a minimum quality for a given technique in order to pass. Implement the technique fully (or exceed it!) and you should be able to earn full grades for the assignment.\n",
    "\n",
    "\n",
    "&nbsp;&nbsp;&nbsp;&nbsp;&nbsp;&nbsp;Ferreira, N., Fisher, D., & Konig, A. C. (2014, April). [Sample-oriented task-driven visualizations: allowing users to make better, more confident decisions.](https://www.microsoft.com/en-us/research/wp-content/uploads/2016/02/Ferreira_Fisher_Sample_Oriented_Tasks.pdf) \n",
    "&nbsp;&nbsp;&nbsp;&nbsp;&nbsp;&nbsp;In Proceedings of the SIGCHI Conference on Human Factors in Computing Systems (pp. 571-580). ACM. ([video](https://www.youtube.com/watch?v=BI7GAs-va-Q))\n",
    "\n",
    "\n",
    "In this [paper](https://www.microsoft.com/en-us/research/wp-content/uploads/2016/02/Ferreira_Fisher_Sample_Oriented_Tasks.pdf) the authors describe the challenges users face when trying to make judgements about probabilistic data generated through samples. As an example, they look at a bar chart of four years of data (replicated below in Figure 1). Each year has a y-axis value, which is derived from a sample of a larger dataset. For instance, the first value might be the number votes in a given district or riding for 1992, with the average being around 33,000. On top of this is plotted the 95% confidence interval for the mean (see the boxplot lectures for more information, and the yerr parameter of barcharts).\n",
    "\n",
    "<br>\n",
    "<img src=\"readonly/Assignment3Fig1.png\" alt=\"Figure 1\" style=\"width: 400px;\"/>\n",
    "<h4 style=\"text-align: center;\" markdown=\"1\">  &nbsp;&nbsp;&nbsp;&nbsp;&nbsp;&nbsp;&nbsp;&nbsp;Figure 1 from (Ferreira et al, 2014).</h4>\n",
    "\n",
    "<br>\n",
    "\n",
    "A challenge that users face is that, for a given y-axis value (e.g. 42,000), it is difficult to know which x-axis values are most likely to be representative, because the confidence levels overlap and their distributions are different (the lengths of the confidence interval bars are unequal). One of the solutions the authors propose for this problem (Figure 2c) is to allow users to indicate the y-axis value of interest (e.g. 42,000) and then draw a horizontal line and color bars based on this value. So bars might be colored red if they are definitely above this value (given the confidence interval), blue if they are definitely below this value, or white if they contain this value.\n",
    "\n",
    "\n",
    "<br>\n",
    "<img src=\"readonly/Assignment3Fig2c.png\" alt=\"Figure 1\" style=\"width: 400px;\"/>\n",
    "<h4 style=\"text-align: center;\" markdown=\"1\">  Figure 2c from (Ferreira et al. 2014). Note that the colorbar legend at the bottom as well as the arrows are not required in the assignment descriptions below.</h4>\n",
    "\n",
    "<br>\n",
    "<br>\n",
    "\n",
    "**Easiest option:** Implement the bar coloring as described above - a color scale with only three colors, (e.g. blue, white, and red). Assume the user provides the y axis value of interest as a parameter or variable.\n",
    "\n",
    "\n",
    "**Harder option:** Implement the bar coloring as described in the paper, where the color of the bar is actually based on the amount of data covered (e.g. a gradient ranging from dark blue for the distribution being certainly below this y-axis, to white if the value is certainly contained, to dark red if the value is certainly not contained as the distribution is above the axis).\n",
    "\n",
    "**Even Harder option:** Add interactivity to the above, which allows the user to click on the y axis to set the value of interest. The bar colors should change with respect to what value the user has selected.\n",
    "\n",
    "**Hardest option:** Allow the user to interactively set a range of y values they are interested in, and recolor based on this (e.g. a y-axis band, see the paper for more details).\n",
    "\n",
    "---\n",
    "\n",
    "*Note: The data given for this assignment is not the same as the data used in the article and as a result the visualizations may look a little different.*"
   ]
  },
  {
   "cell_type": "code",
   "execution_count": 158,
   "metadata": {
    "collapsed": false
   },
   "outputs": [
    {
     "data": {
      "text/html": [
       "<style>.container { width:100% !important; }</style>"
      ],
      "text/plain": [
       "<IPython.core.display.HTML object>"
      ]
     },
     "metadata": {},
     "output_type": "display_data"
    },
    {
     "data": {
      "text/html": [
       "<style>.container { border-left-width: 0px !important; }</style>"
      ],
      "text/plain": [
       "<IPython.core.display.HTML object>"
      ]
     },
     "metadata": {},
     "output_type": "display_data"
    }
   ],
   "source": [
    "from IPython.display import display, HTML\n",
    "display(HTML(\"<style>.container { width:100% !important; }</style>\"))\n",
    "display(HTML(\"<style>.container { border-left-width: 0px !important; }</style>\"))"
   ]
  },
  {
   "cell_type": "code",
   "execution_count": 1,
   "metadata": {
    "collapsed": false
   },
   "outputs": [
    {
     "name": "stdout",
     "output_type": "stream",
     "text": [
      "Int64Index([1992, 1993, 1994, 1995], dtype='int64')\n",
      "33312.1074755\n",
      "41861.8595411\n",
      "39493.3049414\n",
      "47743.5509693\n",
      "[33312.107475544377, 41861.859541073398, 39493.304941398885, 47743.550969267082]\n"
     ]
    },
    {
     "data": {
      "text/plain": [
       "3650"
      ]
     },
     "execution_count": 1,
     "metadata": {},
     "output_type": "execute_result"
    }
   ],
   "source": [
    "# Use the following data for this assignment:\n",
    "\n",
    "import pandas as pd\n",
    "import numpy as np\n",
    "import matplotlib.pyplot as plt\n",
    "\n",
    "np.random.seed(12345)\n",
    "\n",
    "df = pd.DataFrame([np.random.normal(32000,200000,3650), \n",
    "                   np.random.normal(43000,100000,3650), \n",
    "                   np.random.normal(43500,140000,3650), \n",
    "                   np.random.normal(48000,70000,3650)], \n",
    "                  index=[1992,1993,1994,1995])\n",
    "ndf = df.T\n",
    "print(ndf.columns)\n",
    "\n",
    "mean1992 = ndf[1992].mean()\n",
    "print(mean1992)\n",
    "\n",
    "mean1993 = ndf[1993].mean()\n",
    "print(mean1993)\n",
    "\n",
    "mean1994 = ndf[1994].mean()\n",
    "print(mean1994)\n",
    "\n",
    "mean1995 = ndf[1995].mean()\n",
    "print(mean1995)\n",
    "\n",
    "means = [mean1992, mean1993, mean1994, mean1995]\n",
    "print(means)\n",
    "\n",
    "ndf.describe()\n",
    "ndf[1995].count()"
   ]
  },
  {
   "cell_type": "code",
   "execution_count": 22,
   "metadata": {
    "collapsed": false,
    "scrolled": true
   },
   "outputs": [
    {
     "data": {
      "image/png": "[encoded data removed]",
      "text/plain": [
       "<matplotlib.figure.Figure at 0x7faeaa3893c8>"
      ]
     },
     "metadata": {},
     "output_type": "display_data"
    }
   ],
   "source": [
    "import math\n",
    "import scipy.stats as st\n",
    "from matplotlib import cm\n",
    "import matplotlib as mpl\n",
    "from mpl_toolkits.axes_grid1 import make_axes_locatable\n",
    "\n",
    "\n",
    "years = ['1992', '1993', '1994', '1995']\n",
    "ci95 =[]\n",
    "sds=[]\n",
    "prob=[]\n",
    "\n",
    "y = 1992\n",
    "x = 0\n",
    "arb = 42000\n",
    "c=3650\n",
    "\n",
    "while y < 1996:\n",
    "    sd = ndf[y].std()\n",
    "    m = means[x]\n",
    "    err = 1.96*sd/math.sqrt(c)\n",
    "    ciH = m+err\n",
    "    ciL = m-err\n",
    "    sds.append(sd)\n",
    "    ci95.append(err)\n",
    "    prob.append(st.norm.cdf((arb-m)/(sd/math.sqrt(c))))\n",
    "    y += 1\n",
    "    x += 1\n",
    "\n",
    "#defining color map\n",
    "plt.clf\n",
    "fig, ax = plt.subplots()\n",
    "colors = cm.RdBu(prob) \n",
    "cmap = mpl.cm.RdBu\n",
    "\n",
    "#Make bar charts with a horizontal line\n",
    "bars = ax.bar(range(len(means)), means, width =1, color = colors, edgecolor='black', yerr =ci95, capsize = 10)\n",
    "ax.set_xticks(range(len(means)))\n",
    "ax.set_xticklabels(years)\n",
    "hline = ax.axhline(arb, color='gray', linestyle = 'dashed', label = 'y-Value')\n",
    "ax.text(0.05, .95, \"Y-Value = {}\".format(arb), transform=ax.transAxes)\n",
    "\n",
    "#code for Color Bar\n",
    "# create an Axes on the right side of ax. The width of cax will be 5%\n",
    "# of ax and the padding between cax and ax will be fixed at 0.1 inch.\n",
    "divider = make_axes_locatable(ax)\n",
    "cax = divider.append_axes(\"right\", size=\"5%\", pad=0.1)\n",
    "\n",
    "sm = cm.ScalarMappable(cmap=cmap, norm=plt.Normalize(1, 0))\n",
    "sm.set_array([])\n",
    "\n",
    "cbar = plt.colorbar(sm, cax=cax, ax=bars)\n",
    "cbar.ax.invert_yaxis()\n",
    "\n",
    "plt.show()\n",
    "fig.savefig('Wk3 Assign3 Harder Option Figure')"
   ]
  },
  {
   "cell_type": "code",
   "execution_count": null,
   "metadata": {
    "collapsed": true
   },
   "outputs": [],
   "source": [
    "#Code to create interactivity\n",
    "def percentages(arb):\n",
    "    percentages = []\n",
    "    a=0\n",
    "    for bar in bars:\n",
    "        percentage = (st.norm.cdf((arb-means[a])/(sds[a]/math.sqrt(c))))\n",
    "        percentages.append(percentage)\n",
    "        a += 1\n",
    "    return percentages\n",
    "\n",
    "def update(arb):\n",
    "    hline.set_ydata(arb)\n",
    "    colors = cm.RdBu(percentages(arb))\n",
    "    for bar, p in zip(bars, colors):\n",
    "        bar.set_color(p)\n",
    "\n",
    "update(arb)\n",
    "        \n",
    "def onclick(event):\n",
    "    if event.inaxes == ax:\n",
    "        update(event.ydata)\n",
    "        fig.canvas.draw_idle()\n",
    "        \n",
    "plt.gcf().canvas.mpl_connect('button_press_event', onclick)"
   ]
  },
  {
   "cell_type": "code",
   "execution_count": null,
   "metadata": {
    "collapsed": true
   },
   "outputs": [],
   "source": []
  },
  {
   "cell_type": "code",
   "execution_count": 78,
   "metadata": {
    "collapsed": false
   },
   "outputs": [
    {
     "data": {
      "image/png": "[encoded data removed]",
      "text/plain": [
       "<matplotlib.figure.Figure at 0x7fbf70962ef0>"
      ]
     },
     "metadata": {},
     "output_type": "display_data"
    }
   ],
   "source": [
    "import numpy as np\n",
    "\n",
    "ax = plt.subplot()\n",
    "im = ax.imshow(np.arange(100).reshape((10, 10)))\n",
    "\n",
    "# create an Axes on the right side of ax. The width of cax will be 5%\n",
    "# of ax and the padding between cax and ax will be fixed at 0.05 inch.\n",
    "divider = make_axes_locatable(ax)\n",
    "cax = divider.append_axes(\"right\", size=\"5%\", pad=0.05)\n",
    "\n",
    "plt.colorbar(im, cax=cax)\n",
    "\n",
    "plt.show()"
   ]
  },
  {
   "cell_type": "code",
   "execution_count": null,
   "metadata": {
    "collapsed": false
   },
   "outputs": [],
   "source": []
  }
 ],
 "metadata": {
  "kernelspec": {
   "display_name": "Python 3",
   "language": "python",
   "name": "python3"
  },
  "language_info": {
   "codemirror_mode": {
    "name": "ipython",
    "version": 3
   },
   "file_extension": ".py",
   "mimetype": "text/x-python",
   "name": "python",
   "nbconvert_exporter": "python",
   "pygments_lexer": "ipython3",
   "version": "3.6.2"
  }
 },
 "nbformat": 4,
 "nbformat_minor": 2
}
