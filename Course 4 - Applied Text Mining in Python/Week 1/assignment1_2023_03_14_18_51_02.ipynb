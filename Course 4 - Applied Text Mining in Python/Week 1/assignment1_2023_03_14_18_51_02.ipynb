{
 "cells": [
  {
   "cell_type": "markdown",
   "metadata": {
    "deletable": false,
    "editable": false,
    "nbgrader": {
     "cell_type": "markdown",
     "checksum": "8c772ba7352e16b900fc8038f346c124",
     "grade": false,
     "grade_id": "cell-8a754c8ce8a16eeb",
     "locked": true,
     "schema_version": 3,
     "solution": false,
     "task": false
    }
   },
   "source": [
    "# Assignment 1\n",
    "\n",
    "In this assignment, you'll be working with messy medical data and using regex to extract relevant infromation from the data. \n",
    "\n",
    "Each line of the `dates.txt` file corresponds to a medical note. Each note has a date that needs to be extracted, but each date is encoded in one of many formats.\n",
    "\n",
    "The goal of this assignment is to correctly identify all of the different date variants encoded in this dataset and to properly normalize and sort the dates. \n",
    "\n",
    "Here is a list of some of the variants you might encounter in this dataset:\n",
    "* 04/20/2009; 04/20/09; 4/20/09; 4/3/09\n",
    "* Mar-20-2009; Mar 20, 2009; March 20, 2009;  Mar. 20, 2009; Mar 20 2009;\n",
    "* 20 Mar 2009; 20 March 2009; 20 Mar. 2009; 20 March, 2009\n",
    "* Mar 20th, 2009; Mar 21st, 2009; Mar 22nd, 2009\n",
    "* Feb 2009; Sep 2009; Oct 2010\n",
    "* 6/2008; 12/2009\n",
    "* 2009; 2010\n",
    "\n",
    "Once you have extracted these date patterns from the text, the next step is to sort them in ascending chronological order accoring to the following rules:\n",
    "* Assume all dates in xx/xx/xx format are mm/dd/yy\n",
    "* Assume all dates where year is encoded in only two digits are years from the 1900's (e.g. 1/5/89 is January 5th, 1989)\n",
    "* If the day is missing (e.g. 9/2009), assume it is the first day of the month (e.g. September 1, 2009).\n",
    "* If the month is missing (e.g. 2010), assume it is the first of January of that year (e.g. January 1, 2010).\n",
    "* Watch out for potential typos as this is a raw, real-life derived dataset.\n",
    "\n",
    "With these rules in mind, find the correct date in each note and return a pandas Series in chronological order of the original Series' indices.\n",
    "\n",
    "For example if the original series was this:\n",
    "\n",
    "    0    1999\n",
    "    1    2010\n",
    "    2    1978\n",
    "    3    2015\n",
    "    4    1985\n",
    "\n",
    "Your function should return this:\n",
    "\n",
    "    0    2\n",
    "    1    4\n",
    "    2    0\n",
    "    3    1\n",
    "    4    3\n",
    "\n",
    "Your score will be calculated using [Kendall's tau](https://en.wikipedia.org/wiki/Kendall_rank_correlation_coefficient), a correlation measure for ordinal data.\n",
    "\n",
    "*This function should return a Series of length 500 and dtype int.*"
   ]
  },
  {
   "cell_type": "code",
   "execution_count": 73,
   "metadata": {
    "deletable": false,
    "editable": false,
    "nbgrader": {
     "cell_type": "code",
     "checksum": "4b47ce38a503bfb1f113580f394d8667",
     "grade": false,
     "grade_id": "cell-28048f36edc32946",
     "locked": true,
     "schema_version": 3,
     "solution": false,
     "task": false
    }
   },
   "outputs": [
    {
     "data": {
      "text/plain": [
       "0         03/25/93 Total time of visit (in minutes):\\n\n",
       "1                       6/18/85 Primary Care Doctor:\\n\n",
       "2    sshe plans to move as of 7/8/71 In-Home Servic...\n",
       "3                7 on 9/27/75 Audit C Score Current:\\n\n",
       "4    2/6/96 sleep studyPain Treatment Pain Level (N...\n",
       "5                    .Per 7/06/79 Movement D/O note:\\n\n",
       "6    4, 5/18/78 Patient's thoughts about current su...\n",
       "7    10/24/89 CPT Code: 90801 - Psychiatric Diagnos...\n",
       "8                         3/7/86 SOS-10 Total Score:\\n\n",
       "9             (4/10/71)Score-1Audit C Score Current:\\n\n",
       "dtype: object"
      ]
     },
     "execution_count": 73,
     "metadata": {},
     "output_type": "execute_result"
    }
   ],
   "source": [
    "import pandas as pd\n",
    "\n",
    "doc = []\n",
    "with open('assets/dates.txt') as file:\n",
    "    for line in file:\n",
    "        doc.append(line)\n",
    "\n",
    "df = pd.Series(doc)\n",
    "df.head(10)"
   ]
  },
  {
   "cell_type": "code",
   "execution_count": 7,
   "metadata": {},
   "outputs": [
    {
     "name": "stdout",
     "output_type": "stream",
     "text": [
      ".Spoke to sister Naomi Ely 708-810-7787 who reports he has been doing much better since he went to Dysart Clinic (he was drinking for a month leading up to this, his ammonia was high, and physicians were worried about early).  She feels his cognition is back to baseline, \"100% better\".  She says he has been successful in abstaining from substances as far as she knows, thinks a schedule is useful to him, doctor's appts etc.  Notes that he returned from LA in August 2008, gets bouts of \"exhaustion\" even in sobriety.  She denies ever witnessing any periods of manic behavior from patient.  Their father has dementia that started at age 84.  Notes patient is living with uncle in Black River Falls (uncle is 89), lived with sister 3 months who also takes care of her own father in Talladega.  She knows he is working on getting social security, subsidizing housing.  Stable situation with patient's girlfriend Nutt.Suicidal Behavior Hx of Suicidal Behavior: No\n",
      " ['August 2008']\n",
      "['03', '25', '1993']\n"
     ]
    },
    {
     "data": {
      "text/plain": [
       "0        9\n",
       "1       84\n",
       "2        2\n",
       "3       53\n",
       "4       28\n",
       "      ... \n",
       "495    231\n",
       "496    141\n",
       "497    186\n",
       "498    161\n",
       "499    413\n",
       "Name: OSI, Length: 500, dtype: int64"
      ]
     },
     "execution_count": 7,
     "metadata": {},
     "output_type": "execute_result"
    }
   ],
   "source": [
    "import regex as re\n",
    "import pandas as pd\n",
    "\n",
    "doc = []\n",
    "with open('assets/dates.txt') as file:\n",
    "    for line in file:\n",
    "        doc.append(line)\n",
    "\n",
    "df = pd.Series(doc)\n",
    "\n",
    "tmp = []\n",
    "ndf = {}\n",
    "i=0\n",
    "#code is to parse through each line of df and parse through various regex terms and create a dictionary with all of them \n",
    "#represented by variable i as the key, and the date as the value. using many try and except clauses to attempt many forms of regex matching\n",
    "\n",
    "#print(df[80])\n",
    "for line in df:\n",
    "    try: \n",
    "        x = re.findall(r'((?:\\d{1,2}[ /-])?(?:Jan|January|Feb|February|Mar|March|Apr|April|May|Jun|June|Jul|July|Aug|August|Sept|Sep|September|Oct|October|Nov|November|Dec|December)[ \\,\\./-]+(?:\\d{1,2}[ \\,\\./-]+)?(?:\\d{2,4}))', line)\n",
    "        j = []\n",
    "        if x == j:\n",
    "            y = re.findall(r'(\\d{1,2}[/-](?:\\d{1,2}[/-])?\\d{2,4})', line)\n",
    "            if y == j:\n",
    "                y = re.findall(r'((?:Jan|January|Feb|February|Mar|March|Apr|April|May|Jun|June|Jul|July|Aug|August|Sept|Sep|September|Oct|October|Nov|November|Dec|December)[ \\,\\./-]+(?:\\d{1,2}[sthnd]+[ \\,\\./-]+)(?:\\d{2,4}))', line)\n",
    "                if y == j:\n",
    "                    t = re.findall(r'\\d{4}', line)\n",
    "                    if t ==j:\n",
    "                        raise ValueError\n",
    "                    else: ndf[i]=t\n",
    "                else: ndf[i] = y\n",
    "            else: ndf[i]=y\n",
    "        else: ndf[i]=x\n",
    "        \n",
    "    except ValueError:\n",
    "        z = line\n",
    "        ndf[i]= z      \n",
    "    i += 1\n",
    "\n",
    "print(df[271],ndf[271])\n",
    "    \n",
    "#This Code block starts the process of sorting and cleaning the data into a dictionary with MM/DD/YYYY format    \n",
    "for k,v in ndf.items():\n",
    "    if len(v) == 2:\n",
    "       tmp.append((k,v))\n",
    "#print(tmp)\n",
    "df[272]\n",
    "ndf[272] = ['Feb 1993']\n",
    "ndf[248] = ['July 1995']\n",
    "ndf[72] = ['7/11/77']\n",
    "ndf[10] = ['5/11/85']\n",
    "ndf[80] = ['6/29/81']\n",
    "ndf[401] = ['12/2014']\n",
    "i = 0\n",
    "\n",
    "def convert_month(match_obj):\n",
    "    if match_obj.group(1) is not None:\n",
    "        return '01'\n",
    "    if match_obj.group(2) is not None:\n",
    "        return '02'\n",
    "    if match_obj.group(3) is not None:\n",
    "        return '03'\n",
    "    if match_obj.group(4) is not None:\n",
    "        return '04'\n",
    "    if match_obj.group(5) is not None:\n",
    "        return '05'\n",
    "    if match_obj.group(6) is not None:\n",
    "        return '06'\n",
    "    if match_obj.group(7) is not None:\n",
    "        return '07'\n",
    "    if match_obj.group(8) is not None:\n",
    "        return '08'\n",
    "    if match_obj.group(9) is not None:\n",
    "        return '09'\n",
    "    if match_obj.group(10) is not None:\n",
    "        return '10'\n",
    "    if match_obj.group(11) is not None:\n",
    "        return '11'\n",
    "    if match_obj.group(12) is not None:\n",
    "        return '12'\n",
    "\n",
    "#looks for each pattern of date style, then separates into format Month | Day | Year\n",
    "for k,v in ndf.items(): \n",
    "    #MM/DD/YYYY format, MM/YYYY\n",
    "    x = re.findall(r'(\\d{1,2}[/-](?:\\d{1,2}[/-])?\\d{2,4})', v[0])\n",
    "    j = []\n",
    "    if x == j:\n",
    "        # DD MMM YYYY or MMM DD YYYY format\n",
    "        y = re.findall(r'((?:\\d{1,2})?[ /-]?(?:Jan|January|Feb|February|Mar|March|Apr|April|May|Jun|June|Jul|July|Aug|August|Sept|Sep|September|Oct|October|Nov|November|Dec|December)[ \\,\\./-]+(?:\\d{1,2}[ \\,\\./-]+)?(?:\\d{2,4}))', v[0])\n",
    "        if y == j:\n",
    "            #YYYY format\n",
    "            t = re.findall(r'\\d{4}', v[0])\n",
    "            if t ==j:\n",
    "                pass\n",
    "            else:\n",
    "                #adds missing pieces to make 1/1/YYYY format\n",
    "                t = ['1', '1', t[0].strip()]\n",
    "                ndf[i]=t\n",
    "        else:\n",
    "            #Splits/strips and sorts in correct MM/DD/YYYY format\n",
    "            y = re.split(' |, |\\. |-', y[0].strip())\n",
    "            if len(y) == 2:\n",
    "                y.append(y[1])\n",
    "                y[1] = '1'\n",
    "            if len(y[0]) < 3:\n",
    "                temp = y[0]\n",
    "                y[0] = y[1]\n",
    "                y[1] = temp\n",
    "            ndf[i] = y\n",
    "    else: \n",
    "        #splits/strips and adds values to missing for /YY and MM/YYYY so it becomes MM/DD/YYYY format\n",
    "        x = re.split('/|-', x[0].strip())\n",
    "        if len(x) == 2:\n",
    "            x.append(x[1])\n",
    "            x[1] = '1'\n",
    "        if len(x[2]) == 2:\n",
    "            x[2] = '19'+x[2]\n",
    "        ndf[i] = x    \n",
    "    i += 1\n",
    "print(ndf[0])\n",
    "for k,v, in ndf.items():\n",
    "    if len(v[0]) > 2:\n",
    "        ndf[k] = (re.sub(r'''(January|Jan)|(February|Feb)|(March|Mar)|(April|Apr)|(May)|(June|Jun)|(July|Jul)|(August|Aug)|(September|Sept|Sep)|\n",
    "                         |(October|Oct)|(November|Nov)|(December|Dec)''', convert_month, v[0])+'/'+v[1]+'/'+v[2])\n",
    "        if len(v[2]) < 4:\n",
    "            print(k)\n",
    "    else:\n",
    "        ndf[k] = v[0]+'/'+v[1]+'/'+v[2]\n",
    "for k,v in ndf.items():\n",
    "    ndf[k] = [pd.to_datetime(v, dayfirst = False, yearfirst = False, format = '%m/%d/%Y'), k]\n",
    "#turn the dictionary I created into a DataFrame that will be organized by date, so I can get a series of the OSI (original Series Index)\n",
    "Date_df = pd.DataFrame.from_dict(ndf, orient='index', columns = ['Date', 'OSI'])\n",
    "Date_df\n",
    "Sort_df = Date_df.sort_values(by='Date')\n",
    "#Sort_df\n",
    "Answer = Sort_df['OSI'].reset_index()\n",
    "Answer= Answer['OSI']\n",
    "Answer\n"
   ]
  },
  {
   "cell_type": "code",
   "execution_count": null,
   "metadata": {},
   "outputs": [],
   "source": []
  },
  {
   "cell_type": "code",
   "execution_count": 11,
   "metadata": {
    "deletable": false,
    "nbgrader": {
     "cell_type": "code",
     "checksum": "3e58e227860ae4b02d6bdddd81506787",
     "grade": false,
     "grade_id": "cell-d6f35a51303ed6ff",
     "locked": false,
     "schema_version": 3,
     "solution": true,
     "task": false
    }
   },
   "outputs": [],
   "source": [
    "def date_sorter():\n",
    "    \n",
    "    order = None\n",
    "    import regex as re\n",
    "    import pandas as pd\n",
    "\n",
    "    doc = []\n",
    "    with open('assets/dates.txt') as file:\n",
    "        for line in file:\n",
    "            doc.append(line)\n",
    "\n",
    "    df = pd.Series(doc)\n",
    "\n",
    "    tmp = []\n",
    "    ndf = {}\n",
    "    i=0\n",
    "    #code is to parse through each line of df and parse through various regex terms and create a dictionary with all of them \n",
    "    #represented by variable i as the key, and the date as the value. using many try and except clauses to attempt many forms of regex matching\n",
    "\n",
    "    #print(df[80])\n",
    "    for line in df:\n",
    "        try: \n",
    "            x = re.findall(r'((?:\\d{1,2}[ /-])?(?:Jan|January|Feb|February|Mar|March|Apr|April|May|Jun|June|Jul|July|Aug|August|Sept|Sep|September|Oct|October|Nov|November|Dec|December)[ \\,\\./-]+(?:\\d{1,2}[ \\,\\./-]+)?(?:\\d{2,4}))', line)\n",
    "            j = []\n",
    "            if x == j:\n",
    "                y = re.findall(r'(\\d{1,2}[/-](?:\\d{1,2}[/-])?\\d{2,4})', line)\n",
    "                if y == j:\n",
    "                    y = re.findall(r'((?:Jan|January|Feb|February|Mar|March|Apr|April|May|Jun|June|Jul|July|Aug|August|Sept|Sep|September|Oct|October|Nov|November|Dec|December)[ \\,\\./-]+(?:\\d{1,2}[sthnd]+[ \\,\\./-]+)(?:\\d{2,4}))', line)\n",
    "                    if y == j:\n",
    "                        t = re.findall(r'\\d{4}', line)\n",
    "                        if t ==j:\n",
    "                            raise ValueError\n",
    "                        else: ndf[i]=t\n",
    "                    else: ndf[i] = y\n",
    "                else: ndf[i]=y\n",
    "            else: ndf[i]=x\n",
    "\n",
    "        except ValueError:\n",
    "            z = line\n",
    "            ndf[i]= z      \n",
    "        i += 1\n",
    "\n",
    "    #print(df[271],ndf[271])\n",
    "\n",
    "    #This Code block starts the process of sorting and cleaning the data into a dictionary with MM/DD/YYYY format    \n",
    "    for k,v in ndf.items():\n",
    "        if len(v) == 2:\n",
    "           tmp.append((k,v))\n",
    "    #print(tmp)\n",
    "    df[272]\n",
    "    ndf[272] = ['Feb 1993']\n",
    "    ndf[248] = ['July 1995']\n",
    "    ndf[72] = ['7/11/77']\n",
    "    ndf[10] = ['5/11/85']\n",
    "    ndf[80] = ['6/29/81']\n",
    "    ndf[401] = ['12/2014']\n",
    "    i = 0\n",
    "\n",
    "    def convert_month(match_obj):\n",
    "        if match_obj.group(1) is not None:\n",
    "            return '01'\n",
    "        if match_obj.group(2) is not None:\n",
    "            return '02'\n",
    "        if match_obj.group(3) is not None:\n",
    "            return '03'\n",
    "        if match_obj.group(4) is not None:\n",
    "            return '04'\n",
    "        if match_obj.group(5) is not None:\n",
    "            return '05'\n",
    "        if match_obj.group(6) is not None:\n",
    "            return '06'\n",
    "        if match_obj.group(7) is not None:\n",
    "            return '07'\n",
    "        if match_obj.group(8) is not None:\n",
    "            return '08'\n",
    "        if match_obj.group(9) is not None:\n",
    "            return '09'\n",
    "        if match_obj.group(10) is not None:\n",
    "            return '10'\n",
    "        if match_obj.group(11) is not None:\n",
    "            return '11'\n",
    "        if match_obj.group(12) is not None:\n",
    "            return '12'\n",
    "\n",
    "    #looks for each pattern of date style, then separates into format Month | Day | Year\n",
    "    for k,v in ndf.items(): \n",
    "        #MM/DD/YYYY format, MM/YYYY\n",
    "        x = re.findall(r'(\\d{1,2}[/-](?:\\d{1,2}[/-])?\\d{2,4})', v[0])\n",
    "        j = []\n",
    "        if x == j:\n",
    "            # DD MMM YYYY or MMM DD YYYY format\n",
    "            y = re.findall(r'((?:\\d{1,2})?[ /-]?(?:Jan|January|Feb|February|Mar|March|Apr|April|May|Jun|June|Jul|July|Aug|August|Sept|Sep|September|Oct|October|Nov|November|Dec|December)[ \\,\\./-]+(?:\\d{1,2}[ \\,\\./-]+)?(?:\\d{2,4}))', v[0])\n",
    "            if y == j:\n",
    "                #YYYY format\n",
    "                t = re.findall(r'\\d{4}', v[0])\n",
    "                if t ==j:\n",
    "                    pass\n",
    "                else:\n",
    "                    #adds missing pieces to make 1/1/YYYY format\n",
    "                    t = ['1', '1', t[0].strip()]\n",
    "                    ndf[i]=t\n",
    "            else:\n",
    "                #Splits/strips and sorts in correct MM/DD/YYYY format\n",
    "                y = re.split(' |, |\\. |-', y[0].strip())\n",
    "                if len(y) == 2:\n",
    "                    y.append(y[1])\n",
    "                    y[1] = '1'\n",
    "                if len(y[0]) < 3:\n",
    "                    temp = y[0]\n",
    "                    y[0] = y[1]\n",
    "                    y[1] = temp\n",
    "                ndf[i] = y\n",
    "        else: \n",
    "            #splits/strips and adds values to missing for /YY and MM/YYYY so it becomes MM/DD/YYYY format\n",
    "            x = re.split('/|-', x[0].strip())\n",
    "            if len(x) == 2:\n",
    "                x.append(x[1])\n",
    "                x[1] = '1'\n",
    "            if len(x[2]) == 2:\n",
    "                x[2] = '19'+x[2]\n",
    "            ndf[i] = x    \n",
    "        i += 1\n",
    "    #print(ndf[0])\n",
    "    for k,v, in ndf.items():\n",
    "        if len(v[0]) > 2:\n",
    "            ndf[k] = (re.sub(r'''(January|Jan)|(February|Feb)|(March|Mar)|(April|Apr)|(May)|(June|Jun)|(July|Jul)|(August|Aug)|(September|Sept|Sep)|\n",
    "                             |(October|Oct)|(November|Nov)|(December|Dec)''', convert_month, v[0])+'/'+v[1]+'/'+v[2])\n",
    "            if len(v[2]) < 4:\n",
    "                print(k)\n",
    "        else:\n",
    "            ndf[k] = v[0]+'/'+v[1]+'/'+v[2]\n",
    "    for k,v in ndf.items():\n",
    "        ndf[k] = [pd.to_datetime(v, dayfirst = False, yearfirst = False, format = '%m/%d/%Y'), k]\n",
    "    #turn the dictionary I created into a DataFrame that will be organized by date, so I can get a series of the OSI (original Series Index)\n",
    "    Date_df = pd.DataFrame.from_dict(ndf, orient='index', columns = ['Date', 'OSI'])\n",
    "    Date_df\n",
    "    Sort_df = Date_df.sort_values(by='Date')\n",
    "    #Sort_df\n",
    "    Answer = Sort_df['OSI'].reset_index()\n",
    "    order= Answer['OSI']\n",
    "    return order # Your answer here"
   ]
  },
  {
   "cell_type": "code",
   "execution_count": 8,
   "metadata": {},
   "outputs": [
    {
     "data": {
      "text/plain": [
       "['1995', '196', '1997']"
      ]
     },
     "execution_count": 8,
     "metadata": {},
     "output_type": "execute_result"
    }
   ],
   "source": [
    "x = ['1995', '6', '97']\n",
    "y=[]\n",
    "for item in x:\n",
    "    if len(item) == 1 or len(item) == 2:\n",
    "        item = '19'+item\n",
    "    y.append(item)\n",
    "if len(x) ==3:\n",
    "    x.append(x[2])\n",
    "    x[2] = '1'\n",
    "y"
   ]
  },
  {
   "cell_type": "code",
   "execution_count": 9,
   "metadata": {},
   "outputs": [
    {
     "data": {
      "text/plain": [
       "'Mar-20-2009'"
      ]
     },
     "execution_count": 9,
     "metadata": {},
     "output_type": "execute_result"
    }
   ],
   "source": [
    "x = ['Mar-20-2009', 'Mar 20, 2009', 'March 20, 2009', 'Mar. 20, 2009', 'Mar 20 2009', '20 Mar 2009', '20 March 2009', '20 Mar. 2009', '20 March, 2009']\n",
    "y =[]\n",
    "x[0].strip()\n",
    "#print(x)\n",
    "#for item in x:\n",
    "#    y.append(re.split(' |, |\\. |-', item))\n",
    "#print(y)"
   ]
  },
  {
   "cell_type": "code",
   "execution_count": 10,
   "metadata": {},
   "outputs": [
    {
     "data": {
      "text/plain": [
       "['1', '1', '1994']"
      ]
     },
     "execution_count": 10,
     "metadata": {},
     "output_type": "execute_result"
    }
   ],
   "source": [
    "v= ['1994']\n",
    "t = re.findall(r'\\d{4}', v[0])\n",
    "if t ==j:\n",
    "    pass\n",
    "else: \n",
    "    t = ['1', '1', t[0]]\n",
    "t\n",
    "    "
   ]
  },
  {
   "cell_type": "code",
   "execution_count": null,
   "metadata": {
    "deletable": false,
    "editable": false,
    "nbgrader": {
     "cell_type": "code",
     "checksum": "d65c5cbf989f629d2fc4b2195a43ccd9",
     "grade": true,
     "grade_id": "cell-373f878879c00996",
     "locked": true,
     "points": 1,
     "schema_version": 3,
     "solution": false,
     "task": false
    }
   },
   "outputs": [],
   "source": []
  },
  {
   "cell_type": "code",
   "execution_count": 45,
   "metadata": {},
   "outputs": [
    {
     "name": "stdout",
     "output_type": "stream",
     "text": [
      "{0: ['03', '25', '1984'], 1: ['Mar', '25', '1984'], 2: ['March', '25', '1984'], 3: ['June', '25', '1984'], 4: ['January', '25', '1984'], 5: ['Oct', '25', '1984']}\n"
     ]
    },
    {
     "data": {
      "text/plain": [
       "{0: ['03', '25', '1984'],\n",
       " 1: '03/25/1984',\n",
       " 2: '03/25/1984',\n",
       " 3: '06/25/1984',\n",
       " 4: '01/25/1984',\n",
       " 5: 'Oct/25/1984'}"
      ]
     },
     "execution_count": 45,
     "metadata": {},
     "output_type": "execute_result"
    }
   ],
   "source": [
    "\n",
    "\n",
    "test_d = {0:['03', '25', '1984'], 1:['Mar','25','1984'], 2:['March','25','1984'], 3:['June','25','1984'],4:['January','25','1984'],5:['Oct','25','1984']}\n",
    "print(test_d)\n",
    "\n",
    "test_d\n",
    "\n",
    "    "
   ]
  },
  {
   "cell_type": "code",
   "execution_count": 12,
   "metadata": {},
   "outputs": [
    {
     "data": {
      "text/plain": [
       "0        9\n",
       "1       84\n",
       "2        2\n",
       "3       53\n",
       "4       28\n",
       "      ... \n",
       "495    231\n",
       "496    141\n",
       "497    186\n",
       "498    161\n",
       "499    413\n",
       "Name: OSI, Length: 500, dtype: int64"
      ]
     },
     "execution_count": 12,
     "metadata": {},
     "output_type": "execute_result"
    }
   ],
   "source": [
    "date_sorter()"
   ]
  },
  {
   "cell_type": "code",
   "execution_count": null,
   "metadata": {},
   "outputs": [],
   "source": []
  },
  {
   "cell_type": "code",
   "execution_count": null,
   "metadata": {},
   "outputs": [],
   "source": []
  }
 ],
 "metadata": {
  "coursera": {
   "course_slug": "python-text-mining",
   "graded_item_id": "LvcWI",
   "launcher_item_id": "krne9",
   "part_id": "Mkp1I"
  },
  "kernelspec": {
   "display_name": "Python 3 (ipykernel)",
   "language": "python",
   "name": "python3"
  },
  "language_info": {
   "codemirror_mode": {
    "name": "ipython",
    "version": 3
   },
   "file_extension": ".py",
   "mimetype": "text/x-python",
   "name": "python",
   "nbconvert_exporter": "python",
   "pygments_lexer": "ipython3",
   "version": "3.8.10"
  }
 },
 "nbformat": 4,
 "nbformat_minor": 4
}
